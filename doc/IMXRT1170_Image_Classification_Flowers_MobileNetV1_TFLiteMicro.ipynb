{
  "nbformat": 4,
  "nbformat_minor": 0,
  "metadata": {
    "colab": {
      "name": "IMXRT1170_Image_Classification_Flowers_MobileNetV1_TFLiteMicro.ipynb",
      "provenance": [],
      "collapsed_sections": []
    },
    "kernelspec": {
      "name": "python3",
      "display_name": "Python 3"
    },
    "language_info": {
      "name": "python"
    }
  },
  "cells": [
    {
      "cell_type": "markdown",
      "metadata": {
        "id": "nzNFRtv8L501"
      },
      "source": [
        "\n",
        "---\n",
        "\n",
        "**Based on:**\n",
        "* [Getting Started with TensorFlow Lite for Microcontrollers on i.MX RT](https://community.nxp.com/t5/eIQ-Machine-Learning-Software/Getting-Started-with-TensorFlow-Lite-for-Microcontrollers-on-i/ta-p/1124103) (Revision 10, for reference)\n",
        "* [Image classification with TensorFlow Lite Model Maker](https://www.tensorflow.org/lite/tutorials/model_maker_image_classification)\n",
        "\n",
        "The goal of this notebook is to retrain the MobileNetV1 to classify 5 types of flowers: daisy, dandelion, roses, sunflowers, tulips.\n",
        "\n",
        "After retraining, model is exported as TensorFlow Lite model (*.tflite*) and next converted to C array (*.h*) that can be imported into an embedded project. Embedded project is based on example coming from **SDK 2.10.1** for i.MXRT1170 named *tensorflow_lite_micro_label_image*.\n",
        "\n",
        "At the end of the notebook, there will be pop-ups asking you where you want to save created files. They will be available also in */content* folder.\n",
        "\n",
        "> **Additional info**\n",
        "> \n",
        "> Tested with:\n",
        "> * Python 3.7.12\n",
        "> * TensorFlow 2.6.0\n",
        "> * Model Maker 0.2.4\n",
        "\n",
        "---\n"
      ]
    },
    {
      "cell_type": "markdown",
      "metadata": {
        "id": "vnpbczutHeo-"
      },
      "source": [
        "\n",
        "---\n",
        "\n",
        "### Sanity check\n",
        "\n",
        "---\n"
      ]
    },
    {
      "cell_type": "code",
      "metadata": {
        "colab": {
          "base_uri": "https://localhost:8080/"
        },
        "id": "Yi9qKyezTxyq",
        "outputId": "7ada0df4-99fc-47a8-b317-5352834d7f37"
      },
      "source": [
        "!python --version\n",
        "!pip show tensorflow"
      ],
      "execution_count": 1,
      "outputs": [
        {
          "output_type": "stream",
          "name": "stdout",
          "text": [
            "Python 3.7.12\n",
            "Name: tensorflow\n",
            "Version: 2.6.0\n",
            "Summary: TensorFlow is an open source machine learning framework for everyone.\n",
            "Home-page: https://www.tensorflow.org/\n",
            "Author: Google Inc.\n",
            "Author-email: packages@tensorflow.org\n",
            "License: Apache 2.0\n",
            "Location: /usr/local/lib/python3.7/dist-packages\n",
            "Requires: clang, flatbuffers, six, numpy, h5py, tensorboard, opt-einsum, grpcio, wrapt, google-pasta, keras-preprocessing, protobuf, wheel, tensorflow-estimator, absl-py, astunparse, gast, typing-extensions, keras, termcolor\n",
            "Required-by: kapre\n"
          ]
        }
      ]
    },
    {
      "cell_type": "markdown",
      "metadata": {
        "id": "2g2vkcPF_BX6"
      },
      "source": [
        "\n",
        "---\n",
        "\n",
        "### Download dataset\n",
        "After downloading, by default it should be available in */content* folder  \n",
        "\n",
        "---\n"
      ]
    },
    {
      "cell_type": "code",
      "metadata": {
        "id": "wJ6Ig0UeSNS8",
        "colab": {
          "base_uri": "https://localhost:8080/"
        },
        "outputId": "bf62d2a6-ce0e-42b7-d04b-966493245b13"
      },
      "source": [
        "!wget -q http://download.tensorflow.org/example_images/flower_photos.tgz\n",
        "!tar -xzf \"/content/flower_photos.tgz\"\n",
        "print('Dataset downloaded and unpacked')"
      ],
      "execution_count": 2,
      "outputs": [
        {
          "output_type": "stream",
          "name": "stdout",
          "text": [
            "Dataset downloaded and unpacked\n"
          ]
        }
      ]
    },
    {
      "cell_type": "markdown",
      "metadata": {
        "id": "f4DA17jn_SkQ"
      },
      "source": [
        "\n",
        "---\n",
        "\n",
        "### Install TensorFlow Lite Model Maker\n",
        "TensorFlow Lite Model Maker library is required to be **0.2.4**, otherwise seems to be some API changes in never version (refers to **0.3.2**) and below code is not fully operational.\n",
        "\n",
        "---\n"
      ]
    },
    {
      "cell_type": "code",
      "metadata": {
        "id": "AwLz_cOFWnsv",
        "colab": {
          "base_uri": "https://localhost:8080/"
        },
        "outputId": "65c6a6c9-da04-4b3a-9285-4758a3b07e86"
      },
      "source": [
        "!pip install -q tflite-model-maker==0.2.4\n",
        "!pip show tflite-model-maker # check version installed"
      ],
      "execution_count": 3,
      "outputs": [
        {
          "output_type": "stream",
          "name": "stdout",
          "text": [
            "\u001b[K     |████████████████████████████████| 190 kB 5.1 MB/s \n",
            "\u001b[K     |████████████████████████████████| 6.3 MB 55.6 MB/s \n",
            "\u001b[K     |████████████████████████████████| 840 kB 23.5 MB/s \n",
            "\u001b[K     |████████████████████████████████| 87 kB 6.9 MB/s \n",
            "\u001b[K     |████████████████████████████████| 127 kB 65.4 MB/s \n",
            "\u001b[K     |████████████████████████████████| 1.2 MB 45.0 MB/s \n",
            "\u001b[K     |████████████████████████████████| 636 kB 34.7 MB/s \n",
            "\u001b[K     |████████████████████████████████| 64 kB 2.4 MB/s \n",
            "\u001b[K     |████████████████████████████████| 1.0 MB 21.1 MB/s \n",
            "\u001b[K     |████████████████████████████████| 37.1 MB 51 kB/s \n",
            "\u001b[K     |████████████████████████████████| 99 kB 9.2 MB/s \n",
            "\u001b[K     |████████████████████████████████| 352 kB 60.1 MB/s \n",
            "\u001b[K     |████████████████████████████████| 211 kB 72.9 MB/s \n",
            "\u001b[K     |████████████████████████████████| 1.1 MB 75.3 MB/s \n",
            "\u001b[K     |████████████████████████████████| 200 kB 52.8 MB/s \n",
            "\u001b[?25h  Building wheel for fire (setup.py) ... \u001b[?25l\u001b[?25hdone\n",
            "  Building wheel for py-cpuinfo (setup.py) ... \u001b[?25l\u001b[?25hdone\n",
            "Name: tflite-model-maker\n",
            "Version: 0.2.4\n",
            "Summary: TFLite Model Maker: a model customization library for on-device applications.\n",
            "Home-page: http://github.com/tensorflow/examples\n",
            "Author: Google LLC\n",
            "Author-email: packages@tensorflow.org\n",
            "License: Apache 2.0\n",
            "Location: /usr/local/lib/python3.7/dist-packages\n",
            "Requires: flatbuffers, pillow, tf-models-official, absl-py, tflite-support, tensorflow, sentencepiece, fire, librosa, lxml, tensorflow-datasets, tensorflowjs, tensorflow-hub, PyYAML, urllib3, numpy\n",
            "Required-by: \n"
          ]
        }
      ]
    },
    {
      "cell_type": "markdown",
      "metadata": {
        "id": "vMjJlLnxLOfq"
      },
      "source": [
        "\n",
        "---\n",
        "\n",
        "### Prepare dataset and retrain the model\n",
        "This is a copy of the [*flower_lab.py*](https://community.nxp.com/t5/eIQ-Machine-Learning-Software/Getting-Started-with-TensorFlow-Lite-for-Microcontrollers-on-i/ta-p/1124103?attachment-id=112680) available from [Getting Started with TensorFlow Lite for Microcontrollers on i.MX RT](https://community.nxp.com/t5/eIQ-Machine-Learning-Software/Getting-Started-with-TensorFlow-Lite-for-Microcontrollers-on-i/ta-p/1124103)\n",
        "\n",
        "---\n"
      ]
    },
    {
      "cell_type": "code",
      "metadata": {
        "id": "BdIN4qyVT6xH",
        "colab": {
          "base_uri": "https://localhost:8080/"
        },
        "outputId": "0e5c96d5-ed4e-4bea-fa07-8455bc9734dd"
      },
      "source": [
        "import os\n",
        "from tflite_model_maker import image_classifier\n",
        "from tflite_model_maker import ImageClassifierDataLoader\n",
        "from tflite_model_maker import model_spec\n",
        "\n",
        "#Specify image directory\n",
        "image_path = os.path.join(os.getcwd(), 'flower_photos')\n",
        "\n",
        "#Split up images into different training categories for training, validation, and testing. \n",
        "data = ImageClassifierDataLoader.from_folder(image_path)\n",
        "train_data, rest_data = data.split(0.8)\n",
        "validation_data, test_data = rest_data.split(0.5)\n",
        "\n",
        "#Retrain model on new images\n",
        "mobilenetv1_spec = model_spec.ImageModelSpec(uri='https://tfhub.dev/google/imagenet/mobilenet_v1_025_128/feature_vector/4')\n",
        "mobilenetv1_spec.input_image_shape = [128, 128]\n",
        "model = image_classifier.create(train_data, model_spec=mobilenetv1_spec, validation_data=validation_data)\n",
        "model.summary()\n",
        "\n",
        "#Evaluate final model\n",
        "print('Done training\\n')\n",
        "loss, accuracy = model.evaluate(test_data)\n",
        "\n",
        "#Write out .tflite file\n",
        "print('Write out model\\n')\n",
        "model.export(export_dir='.',tflite_filename='flower_model.tflite',label_filename='flower_labels.txt',with_metadata=False)"
      ],
      "execution_count": 4,
      "outputs": [
        {
          "output_type": "stream",
          "name": "stdout",
          "text": [
            "INFO:tensorflow:Load image with size: 3670, num_label: 5, labels: daisy, dandelion, roses, sunflowers, tulips.\n",
            "INFO:tensorflow:Retraining the models...\n",
            "Model: \"sequential\"\n",
            "_________________________________________________________________\n",
            "Layer (type)                 Output Shape              Param #   \n",
            "=================================================================\n",
            "hub_keras_layer_v1v2 (HubKer (None, 256)               218544    \n",
            "_________________________________________________________________\n",
            "dropout (Dropout)            (None, 256)               0         \n",
            "_________________________________________________________________\n",
            "dense (Dense)                (None, 5)                 1285      \n",
            "=================================================================\n",
            "Total params: 219,829\n",
            "Trainable params: 1,285\n",
            "Non-trainable params: 218,544\n",
            "_________________________________________________________________\n",
            "None\n"
          ]
        },
        {
          "output_type": "stream",
          "name": "stderr",
          "text": [
            "/usr/local/lib/python3.7/dist-packages/keras/optimizer_v2/optimizer_v2.py:356: UserWarning: The `lr` argument is deprecated, use `learning_rate` instead.\n",
            "  \"The `lr` argument is deprecated, use `learning_rate` instead.\")\n"
          ]
        },
        {
          "output_type": "stream",
          "name": "stdout",
          "text": [
            "Epoch 1/5\n",
            "91/91 [==============================] - 27s 267ms/step - loss: 1.2459 - accuracy: 0.6446 - val_loss: 0.8197 - val_accuracy: 0.8125\n",
            "Epoch 2/5\n",
            "91/91 [==============================] - 24s 261ms/step - loss: 0.8876 - accuracy: 0.7768 - val_loss: 0.7901 - val_accuracy: 0.8153\n",
            "Epoch 3/5\n",
            "91/91 [==============================] - 24s 262ms/step - loss: 0.8290 - accuracy: 0.7995 - val_loss: 0.7419 - val_accuracy: 0.8494\n",
            "Epoch 4/5\n",
            "91/91 [==============================] - 24s 271ms/step - loss: 0.8284 - accuracy: 0.7988 - val_loss: 0.7553 - val_accuracy: 0.8352\n",
            "Epoch 5/5\n",
            "91/91 [==============================] - 27s 296ms/step - loss: 0.8088 - accuracy: 0.8101 - val_loss: 0.7375 - val_accuracy: 0.8608\n",
            "Model: \"sequential\"\n",
            "_________________________________________________________________\n",
            "Layer (type)                 Output Shape              Param #   \n",
            "=================================================================\n",
            "hub_keras_layer_v1v2 (HubKer (None, 256)               218544    \n",
            "_________________________________________________________________\n",
            "dropout (Dropout)            (None, 256)               0         \n",
            "_________________________________________________________________\n",
            "dense (Dense)                (None, 5)                 1285      \n",
            "=================================================================\n",
            "Total params: 219,829\n",
            "Trainable params: 1,285\n",
            "Non-trainable params: 218,544\n",
            "_________________________________________________________________\n",
            "Done training\n",
            "\n",
            "12/12 [==============================] - 7s 221ms/step - loss: 0.7517 - accuracy: 0.8392\n",
            "Write out model\n",
            "\n",
            "INFO:tensorflow:Assets written to: /tmp/tmpqe5ippro/assets\n"
          ]
        },
        {
          "output_type": "stream",
          "name": "stderr",
          "text": [
            "INFO:tensorflow:Assets written to: /tmp/tmpqe5ippro/assets\n"
          ]
        },
        {
          "output_type": "stream",
          "name": "stdout",
          "text": [
            "INFO:tensorflow:Saving labels in ./flower_labels.txt.\n"
          ]
        },
        {
          "output_type": "stream",
          "name": "stderr",
          "text": [
            "INFO:tensorflow:Saving labels in ./flower_labels.txt.\n"
          ]
        }
      ]
    },
    {
      "cell_type": "markdown",
      "metadata": {
        "id": "n7VClUSbGTYB"
      },
      "source": [
        "\n",
        "---\n",
        "\n",
        "### Convert *.tflite* to *.h*\n",
        "\n",
        "*xxd* is part of [*Vim*](https://www.vim.org/), and provides a method to dump a binary file (in this case *.tflite*) to hex (C array that can be imported into an embedded project)\n",
        "\n",
        "---\n"
      ]
    },
    {
      "cell_type": "code",
      "metadata": {
        "id": "J-8NKrmT9vfM",
        "colab": {
          "base_uri": "https://localhost:8080/"
        },
        "outputId": "0c070b60-f9d6-4336-ba28-b06426ec6e09"
      },
      "source": [
        "# !apt-get update # in case of problems\n",
        "!apt-get -qq install xxd\n",
        "!xxd --version"
      ],
      "execution_count": 9,
      "outputs": [
        {
          "output_type": "stream",
          "name": "stdout",
          "text": [
            "xxd V1.10 27oct98 by Juergen Weigert\n"
          ]
        }
      ]
    },
    {
      "cell_type": "code",
      "metadata": {
        "id": "8xxibRnTGVEj"
      },
      "source": [
        "!xxd -i flower_model.tflite > flower_model.h"
      ],
      "execution_count": 10,
      "outputs": []
    },
    {
      "cell_type": "markdown",
      "metadata": {
        "id": "X9WB7vjrhKUK"
      },
      "source": [
        "\n",
        "---\n",
        "\n",
        "### Download converted model and use with MCUXpresso\n",
        "3 files will be downloaded:\n",
        "* retrained model *flower_model.tflite*\n",
        "* converted model *flower_model.h*\n",
        "* labels *flowers_labels.txt*\n",
        "\n",
        "---\n"
      ]
    },
    {
      "cell_type": "code",
      "metadata": {
        "colab": {
          "base_uri": "https://localhost:8080/",
          "height": 17
        },
        "id": "ewYI_A_BhVEo",
        "outputId": "14d9ebc1-9e53-411b-e3a0-b996481926ca"
      },
      "source": [
        "from google.colab import files\n",
        "files.download('flower_model.tflite')\n",
        "files.download('flower_model.h')\n",
        "files.download('flower_labels.txt')"
      ],
      "execution_count": 11,
      "outputs": [
        {
          "output_type": "display_data",
          "data": {
            "application/javascript": [
              "\n",
              "    async function download(id, filename, size) {\n",
              "      if (!google.colab.kernel.accessAllowed) {\n",
              "        return;\n",
              "      }\n",
              "      const div = document.createElement('div');\n",
              "      const label = document.createElement('label');\n",
              "      label.textContent = `Downloading \"${filename}\": `;\n",
              "      div.appendChild(label);\n",
              "      const progress = document.createElement('progress');\n",
              "      progress.max = size;\n",
              "      div.appendChild(progress);\n",
              "      document.body.appendChild(div);\n",
              "\n",
              "      const buffers = [];\n",
              "      let downloaded = 0;\n",
              "\n",
              "      const channel = await google.colab.kernel.comms.open(id);\n",
              "      // Send a message to notify the kernel that we're ready.\n",
              "      channel.send({})\n",
              "\n",
              "      for await (const message of channel.messages) {\n",
              "        // Send a message to notify the kernel that we're ready.\n",
              "        channel.send({})\n",
              "        if (message.buffers) {\n",
              "          for (const buffer of message.buffers) {\n",
              "            buffers.push(buffer);\n",
              "            downloaded += buffer.byteLength;\n",
              "            progress.value = downloaded;\n",
              "          }\n",
              "        }\n",
              "      }\n",
              "      const blob = new Blob(buffers, {type: 'application/binary'});\n",
              "      const a = document.createElement('a');\n",
              "      a.href = window.URL.createObjectURL(blob);\n",
              "      a.download = filename;\n",
              "      div.appendChild(a);\n",
              "      a.click();\n",
              "      div.remove();\n",
              "    }\n",
              "  "
            ],
            "text/plain": [
              "<IPython.core.display.Javascript object>"
            ]
          },
          "metadata": {}
        },
        {
          "output_type": "display_data",
          "data": {
            "application/javascript": [
              "download(\"download_2d597071-576c-4988-bb92-bc5793f99f21\", \"flower_model.tflite\", 905088)"
            ],
            "text/plain": [
              "<IPython.core.display.Javascript object>"
            ]
          },
          "metadata": {}
        },
        {
          "output_type": "display_data",
          "data": {
            "application/javascript": [
              "\n",
              "    async function download(id, filename, size) {\n",
              "      if (!google.colab.kernel.accessAllowed) {\n",
              "        return;\n",
              "      }\n",
              "      const div = document.createElement('div');\n",
              "      const label = document.createElement('label');\n",
              "      label.textContent = `Downloading \"${filename}\": `;\n",
              "      div.appendChild(label);\n",
              "      const progress = document.createElement('progress');\n",
              "      progress.max = size;\n",
              "      div.appendChild(progress);\n",
              "      document.body.appendChild(div);\n",
              "\n",
              "      const buffers = [];\n",
              "      let downloaded = 0;\n",
              "\n",
              "      const channel = await google.colab.kernel.comms.open(id);\n",
              "      // Send a message to notify the kernel that we're ready.\n",
              "      channel.send({})\n",
              "\n",
              "      for await (const message of channel.messages) {\n",
              "        // Send a message to notify the kernel that we're ready.\n",
              "        channel.send({})\n",
              "        if (message.buffers) {\n",
              "          for (const buffer of message.buffers) {\n",
              "            buffers.push(buffer);\n",
              "            downloaded += buffer.byteLength;\n",
              "            progress.value = downloaded;\n",
              "          }\n",
              "        }\n",
              "      }\n",
              "      const blob = new Blob(buffers, {type: 'application/binary'});\n",
              "      const a = document.createElement('a');\n",
              "      a.href = window.URL.createObjectURL(blob);\n",
              "      a.download = filename;\n",
              "      div.appendChild(a);\n",
              "      a.click();\n",
              "      div.remove();\n",
              "    }\n",
              "  "
            ],
            "text/plain": [
              "<IPython.core.display.Javascript object>"
            ]
          },
          "metadata": {}
        },
        {
          "output_type": "display_data",
          "data": {
            "application/javascript": [
              "download(\"download_369b87a9-b860-4c0f-a10a-b074b914a197\", \"flower_model.h\", 5581465)"
            ],
            "text/plain": [
              "<IPython.core.display.Javascript object>"
            ]
          },
          "metadata": {}
        },
        {
          "output_type": "display_data",
          "data": {
            "application/javascript": [
              "\n",
              "    async function download(id, filename, size) {\n",
              "      if (!google.colab.kernel.accessAllowed) {\n",
              "        return;\n",
              "      }\n",
              "      const div = document.createElement('div');\n",
              "      const label = document.createElement('label');\n",
              "      label.textContent = `Downloading \"${filename}\": `;\n",
              "      div.appendChild(label);\n",
              "      const progress = document.createElement('progress');\n",
              "      progress.max = size;\n",
              "      div.appendChild(progress);\n",
              "      document.body.appendChild(div);\n",
              "\n",
              "      const buffers = [];\n",
              "      let downloaded = 0;\n",
              "\n",
              "      const channel = await google.colab.kernel.comms.open(id);\n",
              "      // Send a message to notify the kernel that we're ready.\n",
              "      channel.send({})\n",
              "\n",
              "      for await (const message of channel.messages) {\n",
              "        // Send a message to notify the kernel that we're ready.\n",
              "        channel.send({})\n",
              "        if (message.buffers) {\n",
              "          for (const buffer of message.buffers) {\n",
              "            buffers.push(buffer);\n",
              "            downloaded += buffer.byteLength;\n",
              "            progress.value = downloaded;\n",
              "          }\n",
              "        }\n",
              "      }\n",
              "      const blob = new Blob(buffers, {type: 'application/binary'});\n",
              "      const a = document.createElement('a');\n",
              "      a.href = window.URL.createObjectURL(blob);\n",
              "      a.download = filename;\n",
              "      div.appendChild(a);\n",
              "      a.click();\n",
              "      div.remove();\n",
              "    }\n",
              "  "
            ],
            "text/plain": [
              "<IPython.core.display.Javascript object>"
            ]
          },
          "metadata": {}
        },
        {
          "output_type": "display_data",
          "data": {
            "application/javascript": [
              "download(\"download_2f801931-fbb4-494e-9836-6546afad4a0d\", \"flower_labels.txt\", 39)"
            ],
            "text/plain": [
              "<IPython.core.display.Javascript object>"
            ]
          },
          "metadata": {}
        }
      ]
    }
  ]
}